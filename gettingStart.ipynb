{
 "cells": [
  {
   "cell_type": "code",
   "execution_count": 1,
   "id": "cd4240b3-b22b-49cc-a940-4b8ee849b137",
   "metadata": {},
   "outputs": [],
   "source": [
    "import boto3"
   ]
  },
  {
   "cell_type": "code",
   "execution_count": 2,
   "id": "547c96a1-01ad-4dcb-82a8-cbc4e46f4643",
   "metadata": {},
   "outputs": [],
   "source": [
    "client = boto3.client('iam')"
   ]
  },
  {
   "cell_type": "code",
   "execution_count": 3,
   "id": "1fe6d0ab-3f82-49ce-87e2-a5b514a8cbfb",
   "metadata": {},
   "outputs": [
    {
     "name": "stdout",
     "output_type": "stream",
     "text": [
      "<botocore.client.IAM object at 0x00000135818EBBC0>\n"
     ]
    }
   ],
   "source": [
    "print(client)"
   ]
  },
  {
   "cell_type": "code",
   "execution_count": 11,
   "id": "f965fd48-11b3-4d2a-b458-43ba5b575b8e",
   "metadata": {},
   "outputs": [],
   "source": [
    "resourse =  boto3.client('s3')"
   ]
  },
  {
   "cell_type": "code",
   "execution_count": 14,
   "id": "3f48a4d8-32a3-4267-80cd-370dd02473c6",
   "metadata": {},
   "outputs": [
    {
     "data": {
      "text/plain": [
       "{'ResponseMetadata': {'RequestId': 'F6X6V47QPCFXQP2X',\n",
       "  'HostId': 'dwoQ9v9uIXEm4eUUcg/W4aKO/7xDuRQoXxawjjq9lf7vFZzhEUrwBhmlRsjjtQzTXgT4Y9g6FmQ=',\n",
       "  'HTTPStatusCode': 200,\n",
       "  'HTTPHeaders': {'x-amz-id-2': 'dwoQ9v9uIXEm4eUUcg/W4aKO/7xDuRQoXxawjjq9lf7vFZzhEUrwBhmlRsjjtQzTXgT4Y9g6FmQ=',\n",
       "   'x-amz-request-id': 'F6X6V47QPCFXQP2X',\n",
       "   'date': 'Fri, 08 Nov 2024 08:42:13 GMT',\n",
       "   'content-type': 'application/xml',\n",
       "   'transfer-encoding': 'chunked',\n",
       "   'server': 'AmazonS3'},\n",
       "  'RetryAttempts': 0},\n",
       " 'Buckets': [{'Name': 'cf-templates-1s58wkahfpr20-us-east-1',\n",
       "   'CreationDate': datetime.datetime(2024, 9, 25, 11, 23, 17, tzinfo=tzutc())},\n",
       "  {'Name': 'cloudfrontlearnmohit2021',\n",
       "   'CreationDate': datetime.datetime(2021, 10, 19, 4, 25, 36, tzinfo=tzutc())},\n",
       "  {'Name': 'may-learningaws-block',\n",
       "   'CreationDate': datetime.datetime(2021, 10, 16, 8, 45, 58, tzinfo=tzutc())},\n",
       "  {'Name': 'mohit-bucket-2021',\n",
       "   'CreationDate': datetime.datetime(2021, 10, 6, 9, 53, 4, tzinfo=tzutc())}],\n",
       " 'Owner': {'DisplayName': 'mca1719214876',\n",
       "  'ID': '75116f03ae9a2972be461ac86790f0afe21d9a6361a011fa69c50fbad65a5e32'}}"
      ]
     },
     "execution_count": 14,
     "metadata": {},
     "output_type": "execute_result"
    }
   ],
   "source": [
    "resourse.list_buckets()"
   ]
  },
  {
   "cell_type": "code",
   "execution_count": null,
   "id": "23d7e6d0-d767-4f81-9c08-9bf4d53ea154",
   "metadata": {},
   "outputs": [],
   "source": []
  },
  {
   "cell_type": "code",
   "execution_count": 7,
   "id": "81ea3faf-ff79-49ce-b93a-d6fbce843a0b",
   "metadata": {},
   "outputs": [
    {
     "ename": "AttributeError",
     "evalue": "'s3.ServiceResource' object has no attribute 'Bucket_list'",
     "output_type": "error",
     "traceback": [
      "\u001b[1;31m---------------------------------------------------------------------------\u001b[0m",
      "\u001b[1;31mAttributeError\u001b[0m                            Traceback (most recent call last)",
      "Cell \u001b[1;32mIn[7], line 1\u001b[0m\n\u001b[1;32m----> 1\u001b[0m response \u001b[38;5;241m=\u001b[39m \u001b[43mresourse\u001b[49m\u001b[38;5;241;43m.\u001b[39;49m\u001b[43mBucket_list\u001b[49m()\n",
      "\u001b[1;31mAttributeError\u001b[0m: 's3.ServiceResource' object has no attribute 'Bucket_list'"
     ]
    }
   ],
   "source": [
    "response = resourse.Bucket_list()"
   ]
  },
  {
   "cell_type": "code",
   "execution_count": null,
   "id": "f74c8e0a-1712-4032-9d3b-35fbafb5c519",
   "metadata": {},
   "outputs": [],
   "source": []
  },
  {
   "cell_type": "code",
   "execution_count": null,
   "id": "338e2eae-cd97-47cb-9b95-64bd97e7e143",
   "metadata": {},
   "outputs": [],
   "source": []
  }
 ],
 "metadata": {
  "kernelspec": {
   "display_name": "Python 3 (ipykernel)",
   "language": "python",
   "name": "python3"
  },
  "language_info": {
   "codemirror_mode": {
    "name": "ipython",
    "version": 3
   },
   "file_extension": ".py",
   "mimetype": "text/x-python",
   "name": "python",
   "nbconvert_exporter": "python",
   "pygments_lexer": "ipython3",
   "version": "3.12.5"
  }
 },
 "nbformat": 4,
 "nbformat_minor": 5
}
